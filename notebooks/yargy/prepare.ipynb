{
 "cells": [
  {
   "cell_type": "code",
   "execution_count": 1,
   "metadata": {},
   "outputs": [
    {
     "name": "stdout",
     "output_type": "stream",
     "text": [
      "    Наименование файла                        Наименование товара  \\\n",
      "0             IMG_5937        Мак Изд Альпина Ракушечки мал 0,9кг   \n",
      "1             IMG_5789            Крупа Ячневая Безыменская 800г    \n",
      "2             IMG_5908  Крупа Горох Агро Альянс Классик шлиф 800г   \n",
      "3             IMG_5874               Крупа Геркулес ААКаскад 400г   \n",
      "4     IMG_20240408 (2)                               Свекла (вес)   \n",
      "..                 ...                                        ...   \n",
      "226           IMG_5872               Крупа Пшено Увелка шлиф 800г   \n",
      "227           IMG_5971       Мак Изд Макфа Перья Любител в/с 400г   \n",
      "228           IMG_5776  Крупа Чечевица Националь Красная в/с 450г   \n",
      "229  IMG_20240408 (14)     Молочный Мир молоко 1л стерил 3,2% т/п   \n",
      "230           IMG_5831        Крупа Булгур Крупинка Классич 0,8кг   \n",
      "\n",
      "         Категория продукта    Цена  \n",
      "0        Макаронные изделия   54.05  \n",
      "1             Ячневая крупа   35.00  \n",
      "2                     Горох   65.00  \n",
      "3             Овсяная крупа   34.00  \n",
      "4                    Свекла   42.50  \n",
      "..                      ...     ...  \n",
      "226                   Пшено   85.00  \n",
      "227      Макаронные изделия   78.00  \n",
      "228                Чечевица  106.00  \n",
      "229  Молоко стерилизованное  110.00  \n",
      "230                  Булгур  120.00  \n",
      "\n",
      "[231 rows x 4 columns]\n",
      "['Макаронные изделия' 'Ячневая крупа' 'Горох' 'Овсяная крупа' 'Свекла'\n",
      " 'Рис' 'Хлеб' 'Кукурузная крупа' 'Свинина' 'Печенье' 'Масло' 'Рыба'\n",
      " 'Творог' 'Молоко пастеризованное' 'Манная крупа' 'Гречневая крупа'\n",
      " 'Лимон' 'Пшено' 'Сыр' 'Нектар' 'Кефир' 'Пшеничная крупа' 'Сливки' 'Яйца'\n",
      " 'Картофель' 'Бананы' 'Творожок' 'Полба' 'Перловая крупа' 'Вода' 'Мука'\n",
      " 'Индейка' 'Яблоки' 'Курица' 'Огурцы' 'Грейпфрут' 'Сок' 'Овсяные хлопья'\n",
      " 'Сало' 'Капуста' 'Киноа' 'Йогурт' 'Сметана' 'Кукуруза' 'Перец' 'Лук'\n",
      " 'Маргарин' 'Маш' 'Пепси' 'Фасоль' 'Ряженка' 'Нут' 'Сгущенное молоко'\n",
      " 'Кускус' 'Чечевица' 'Молоко стерилизованное' 'Булгур']\n"
     ]
    }
   ],
   "source": [
    "import pandas as pd\n",
    "\n",
    "# Replace 'path/to/your/data.csv' with the actual path to your CSV file\n",
    "df = pd.read_csv('train.csv', sep=';')\n",
    "\n",
    "# Print the table (Here we simply display the DataFrame)\n",
    "print(df)\n",
    "\n",
    "# Get unique values of column \"N\"\n",
    "unique_values_N = df['Категория продукта'].unique()\n",
    "print(unique_values_N)\n"
   ]
  },
  {
   "cell_type": "code",
   "execution_count": 2,
   "metadata": {},
   "outputs": [],
   "source": [
    "with open('unique_values.txt', 'w') as file:\n",
    "    for value in unique_values_N:\n",
    "        file.write(f\"{value}\\n\")"
   ]
  },
  {
   "cell_type": "code",
   "execution_count": 3,
   "metadata": {},
   "outputs": [],
   "source": [
    "import os\n",
    "import sys\n",
    "new_path = r'/home/maxim/dev/mzhn-team-sochi/price_tag_analyzer'\n",
    "sys.path.append(new_path)"
   ]
  },
  {
   "cell_type": "code",
   "execution_count": 4,
   "metadata": {},
   "outputs": [
    {
     "name": "stderr",
     "output_type": "stream",
     "text": [
      "FutureWarning: Series.__getitem__ treating keys as positions is deprecated. In a future version, integer keys will always be treated as labels (consistent with DataFrame behavior). To access a value by position, use `ser.iloc[pos]`\n",
      "FutureWarning: Series.__getitem__ treating keys as positions is deprecated. In a future version, integer keys will always be treated as labels (consistent with DataFrame behavior). To access a value by position, use `ser.iloc[pos]`\n"
     ]
    },
    {
     "name": "stdout",
     "output_type": "stream",
     "text": [
      "- Хлопья Агро Альянс Классик Геркулес 400г Овсяные хлопья\n",
      "- Хлопья Агрокультура Овсяные Геркулес 400г Овсяная крупа\n"
     ]
    }
   ],
   "source": [
    "from importlib import reload\n",
    "import price_tag_analyzer.process\n",
    "from price_tag_analyzer.process import ner_extract_product\n",
    "reload(price_tag_analyzer.process)\n",
    "\n",
    "for index, row in df.iterrows():\n",
    "    res = ner_extract_product(row['Наименование товара'])\n",
    "\n",
    "    if not res:\n",
    "        print(f'- {row[1]} {row[2]}')\n",
    "        continue\n",
    "\n",
    "    product_type, _, _ = res\n",
    "\n",
    "    if row[2] != product_type:\n",
    "        print(f'{row[1]} ({row[2]} != {product_type})')\n",
    "    "
   ]
  }
 ],
 "metadata": {
  "kernelspec": {
   "display_name": ".venv",
   "language": "python",
   "name": "python3"
  },
  "language_info": {
   "codemirror_mode": {
    "name": "ipython",
    "version": 3
   },
   "file_extension": ".py",
   "mimetype": "text/x-python",
   "name": "python",
   "nbconvert_exporter": "python",
   "pygments_lexer": "ipython3",
   "version": "3.11.5"
  }
 },
 "nbformat": 4,
 "nbformat_minor": 2
}
