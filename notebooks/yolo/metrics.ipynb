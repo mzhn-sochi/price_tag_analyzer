{
  "cells": [
    {
      "cell_type": "code",
      "execution_count": 1,
      "metadata": {
        "id": "QSgiYLx8uWWg"
      },
      "outputs": [],
      "source": [
        "import locale\n",
        "def getpreferredencoding(do_setlocale = True):\n",
        "    return \"UTF-8\"\n",
        "locale.getpreferredencoding = getpreferredencoding"
      ]
    },
    {
      "cell_type": "code",
      "execution_count": 2,
      "metadata": {
        "colab": {
          "base_uri": "https://localhost:8080/"
        },
        "id": "6TvTttLT9JLs",
        "outputId": "4098556c-664b-4b4e-f222-7364cefdbaf4"
      },
      "outputs": [
        {
          "name": "stdout",
          "output_type": "stream",
          "text": [
            "Ultralytics YOLOv8.1.38 🚀 Python-3.11.5 torch-2.2.2+rocm5.7 CUDA:0 (AMD Radeon RX 6750 XT, 12272MiB)\n",
            "Setup complete ✅ (12 CPUs, 31.3 GB RAM, 678.3/681.4 GB disk)\n",
            "CUDA Available:  True\n"
          ]
        }
      ],
      "source": [
        "%pip install ultralytics\n",
        "import ultralytics\n",
        "import torch\n",
        "ultralytics.checks()\n",
        "print('CUDA Available: ', torch.cuda.is_available())"
      ]
    },
    {
      "cell_type": "code",
      "execution_count": 3,
      "metadata": {
        "colab": {
          "base_uri": "https://localhost:8080/"
        },
        "id": "qaaSz1Dw-530",
        "outputId": "82b137fc-e390-460d-c918-9c464cc773e2"
      },
      "outputs": [
        {
          "name": "stdout",
          "output_type": "stream",
          "text": [
            "--2024-04-05 16:46:52--  https://download.slipenko.com/mzhn-team-sochi/yolov8-price-tag-detection.pt\n",
            "Распознаётся download.slipenko.com (download.slipenko.com)… 192.168.1.52\n",
            "Подключение к download.slipenko.com (download.slipenko.com)|192.168.1.52|:443... соединение установлено.\n",
            "HTTP-запрос отправлен. Ожидание ответа… 200 OK\n",
            "Длина: 52029441 (50M) [application/vnd.snesdev-page-table]\n",
            "Сохранение в: «yolov8-price-tag-detection.pt.1»\n",
            "\n",
            "yolov8-price-tag-de 100%[===================>]  49,62M  39,4MB/s    за 1,3s    \n",
            "\n",
            "2024-04-05 16:46:54 (39,4 MB/s) - «yolov8-price-tag-detection.pt.1» сохранён [52029441/52029441]\n",
            "\n"
          ]
        }
      ],
      "source": [
        "!wget https://download.slipenko.com/mzhn-team-sochi/yolov8-price-tag-detection.pt"
      ]
    },
    {
      "cell_type": "code",
      "execution_count": 4,
      "metadata": {
        "colab": {
          "base_uri": "https://localhost:8080/"
        },
        "id": "shxulJBjRwRS",
        "outputId": "6ec733fb-1406-4461-e12a-bb53e1328ce7"
      },
      "outputs": [
        {
          "name": "stdout",
          "output_type": "stream",
          "text": [
            "  % Total    % Received % Xferd  Average Speed   Time    Time     Time  Current\n",
            "                                 Dload  Upload   Total   Spent    Left  Speed\n",
            "100   261  100   261    0     0   3045      0 --:--:-- --:--:-- --:--:--  3070\n"
          ]
        }
      ],
      "source": [
        "!curl -L https://download.slipenko.com/mzhn-team-sochi/yolov8-price-tag-detection-dataset.yaml --create-dirs -o ./datasets/yolov8-price-tag-detection-dataset.yaml"
      ]
    },
    {
      "cell_type": "code",
      "execution_count": 5,
      "metadata": {
        "id": "_ThbTW0E9aIK"
      },
      "outputs": [],
      "source": [
        "from ultralytics import YOLO\n",
        "\n",
        "model = YOLO('yolov8-price-tag-detection.pt')"
      ]
    },
    {
      "cell_type": "code",
      "execution_count": 8,
      "metadata": {
        "colab": {
          "base_uri": "https://localhost:8080/"
        },
        "id": "1m4GyzSF-aFG",
        "outputId": "0ff3346c-df44-440f-93c0-80e4c62a62cc"
      },
      "outputs": [
        {
          "name": "stdout",
          "output_type": "stream",
          "text": [
            "Ultralytics YOLOv8.1.38 🚀 Python-3.11.5 torch-2.2.2+rocm5.7 CUDA:0 (AMD Radeon RX 6750 XT, 12272MiB)\n"
          ]
        },
        {
          "name": "stderr",
          "output_type": "stream",
          "text": [
            "\u001b[34m\u001b[1mval: \u001b[0mScanning /home/maxim/ultralytics/datasets/yolov8-price-tag-detection-dataset/labels/val.cache... 6 images, 0 backgrounds, 0 corrupt: 100%|██████████| 6/6 [00:00<?, ?it/s]\n",
            "                 Class     Images  Instances      Box(P          R      mAP50  mAP50-95): 100%|██████████| 1/1 [00:00<00:00,  8.34it/s]\n"
          ]
        },
        {
          "name": "stdout",
          "output_type": "stream",
          "text": [
            "                   all          6         20      0.886      0.685      0.828      0.562\n",
            "           description          6          7          1      0.558      0.663      0.286\n",
            "        price_fraction          6          6      0.657      0.833      0.845      0.626\n",
            "           price_whole          6          7          1      0.664      0.978      0.774\n",
            "Speed: 0.2ms preprocess, 6.9ms inference, 0.0ms loss, 0.5ms postprocess per image\n",
            "Results saved to \u001b[1m/home/maxim/ultralytics/runs/detect/val3\u001b[0m\n",
            "-----\n",
            "[    0.28565     0.62638     0.77431]\n"
          ]
        }
      ],
      "source": [
        "metrics = model.val(data='datasets/yolov8-price-tag-detection-dataset.yaml')\n",
        "\n",
        "print('-----')\n",
        "\n",
        "print(metrics.box.maps)"
      ]
    }
  ],
  "metadata": {
    "accelerator": "GPU",
    "colab": {
      "gpuType": "T4",
      "provenance": []
    },
    "kernelspec": {
      "display_name": "Python 3",
      "name": "python3"
    },
    "language_info": {
      "codemirror_mode": {
        "name": "ipython",
        "version": 3
      },
      "file_extension": ".py",
      "mimetype": "text/x-python",
      "name": "python",
      "nbconvert_exporter": "python",
      "pygments_lexer": "ipython3",
      "version": "3.11.5"
    }
  },
  "nbformat": 4,
  "nbformat_minor": 0
}
