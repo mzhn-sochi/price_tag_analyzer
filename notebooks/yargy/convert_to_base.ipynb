{
 "cells": [
  {
   "cell_type": "code",
   "execution_count": 2,
   "metadata": {},
   "outputs": [
    {
     "data": {
      "text/plain": [
       "[MorphToken(\n",
       "     value='говядина',\n",
       "     span=[0, 8),\n",
       "     type='RU',\n",
       "     forms=[Form('говядина', Grams(NOUN,femn,inan,nomn,sing))]\n",
       " )]"
      ]
     },
     "execution_count": 2,
     "metadata": {},
     "output_type": "execute_result"
    }
   ],
   "source": [
    "from yargy.tokenizer import MorphTokenizer\n",
    "\n",
    "TOKENIZER = MorphTokenizer()\n",
    "\n",
    "list(TOKENIZER('свинина'))"
   ]
  }
 ],
 "metadata": {
  "kernelspec": {
   "display_name": ".venv",
   "language": "python",
   "name": "python3"
  },
  "language_info": {
   "codemirror_mode": {
    "name": "ipython",
    "version": 3
   },
   "file_extension": ".py",
   "mimetype": "text/x-python",
   "name": "python",
   "nbconvert_exporter": "python",
   "pygments_lexer": "ipython3",
   "version": "3.11.5"
  }
 },
 "nbformat": 4,
 "nbformat_minor": 2
}
